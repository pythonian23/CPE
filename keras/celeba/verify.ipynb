{
 "cells": [
  {
   "cell_type": "code",
   "execution_count": 1,
   "id": "initial_id",
   "metadata": {
    "collapsed": true,
    "ExecuteTime": {
     "end_time": "2023-08-19T05:51:04.610697266Z",
     "start_time": "2023-08-19T05:51:02.838672025Z"
    }
   },
   "outputs": [],
   "source": [
    "import os\n",
    "os.environ[\"TF_CPP_MIN_LOG_LEVEL\"] = \"2\"\n",
    "\n",
    "from keras.models import load_model, Sequential\n",
    "from keras.layers import Dense, Conv2D, Dropout, Flatten, LeakyReLU\n",
    "from keras.optimizers import Adam\n",
    "import numpy as np\n",
    "from PIL import Image\n",
    "from Crypto.Cipher import AES\n",
    "from Crypto.Random import get_random_bytes\n",
    "import tensorflow_datasets as tfds\n",
    "import tensorflow as tf\n",
    "import matplotlib.pyplot as plt"
   ]
  },
  {
   "cell_type": "code",
   "execution_count": 2,
   "outputs": [],
   "source": [
    "key = get_random_bytes(16)\n",
    "cipher = AES.new(key, AES.MODE_ECB)"
   ],
   "metadata": {
    "collapsed": false,
    "ExecuteTime": {
     "end_time": "2023-08-19T05:51:04.611008407Z",
     "start_time": "2023-08-19T05:51:04.606864590Z"
    }
   },
   "id": "e4865ca63ab6b910"
  },
  {
   "cell_type": "code",
   "execution_count": 3,
   "outputs": [],
   "source": [
    "def aes_encrypt(images):\n",
    "    out = []\n",
    "    for img in images:\n",
    "        data = Image.fromarray(img).tobytes()\n",
    "        data = cipher.encrypt(data)\n",
    "        img = np.frombuffer(data, dtype=np.uint8).reshape((32, 32))\n",
    "        out.append(img)\n",
    "    return np.array(out).reshape(images.shape)"
   ],
   "metadata": {
    "collapsed": false,
    "ExecuteTime": {
     "end_time": "2023-08-19T05:51:04.641460753Z",
     "start_time": "2023-08-19T05:51:04.609196298Z"
    }
   },
   "id": "159b34d2d6f1d197"
  },
  {
   "cell_type": "code",
   "execution_count": 4,
   "outputs": [],
   "source": [
    "decipher = AES.new(key, AES.MODE_ECB)"
   ],
   "metadata": {
    "collapsed": false,
    "ExecuteTime": {
     "end_time": "2023-08-19T05:51:04.683012793Z",
     "start_time": "2023-08-19T05:51:04.640293050Z"
    }
   },
   "id": "870df1d22e6e29c0"
  },
  {
   "cell_type": "code",
   "execution_count": 5,
   "outputs": [],
   "source": [
    "def aes_decrypt(images):\n",
    "    out = []\n",
    "    for img in images:\n",
    "        data = Image.fromarray(img).tobytes()\n",
    "        data = decipher.decrypt(data)\n",
    "        img = np.frombuffer(data, dtype=np.uint8).reshape((32, 32))\n",
    "        out.append(img)\n",
    "    return np.array(out).reshape(images.shape)"
   ],
   "metadata": {
    "collapsed": false,
    "ExecuteTime": {
     "end_time": "2023-08-19T05:51:04.770336491Z",
     "start_time": "2023-08-19T05:51:04.682789663Z"
    }
   },
   "id": "57a9591ec21bf87f"
  },
  {
   "cell_type": "code",
   "execution_count": 8,
   "outputs": [
    {
     "name": "stdout",
     "output_type": "stream",
     "text": [
      "(1, 32, 32)\n"
     ]
    },
    {
     "ename": "ValueError",
     "evalue": "cannot reshape array of size 4096 into shape (32,32)",
     "output_type": "error",
     "traceback": [
      "\u001B[0;31m---------------------------------------------------------------------------\u001B[0m",
      "\u001B[0;31mValueError\u001B[0m                                Traceback (most recent call last)",
      "Cell \u001B[0;32mIn[8], line 8\u001B[0m\n\u001B[1;32m      6\u001B[0m batch \u001B[38;5;241m=\u001B[39m batch[:, :, :, \u001B[38;5;241m0\u001B[39m]\n\u001B[1;32m      7\u001B[0m \u001B[38;5;28mprint\u001B[39m(batch\u001B[38;5;241m.\u001B[39mshape)\n\u001B[0;32m----> 8\u001B[0m encrypted \u001B[38;5;241m=\u001B[39m \u001B[43maes_encrypt\u001B[49m\u001B[43m(\u001B[49m\u001B[43mbatch\u001B[49m\u001B[43m)\u001B[49m\n\u001B[1;32m      9\u001B[0m decrypted \u001B[38;5;241m=\u001B[39m aes_decrypt(encrypted)\n\u001B[1;32m     10\u001B[0m plt\u001B[38;5;241m.\u001B[39msubplot(\u001B[38;5;241m1\u001B[39m, \u001B[38;5;241m3\u001B[39m, \u001B[38;5;241m1\u001B[39m, title\u001B[38;5;241m=\u001B[39m\u001B[38;5;124m\"\u001B[39m\u001B[38;5;124mOriginal\u001B[39m\u001B[38;5;124m\"\u001B[39m)\n",
      "Cell \u001B[0;32mIn[3], line 6\u001B[0m, in \u001B[0;36maes_encrypt\u001B[0;34m(images)\u001B[0m\n\u001B[1;32m      4\u001B[0m     data \u001B[38;5;241m=\u001B[39m Image\u001B[38;5;241m.\u001B[39mfromarray(img)\u001B[38;5;241m.\u001B[39mtobytes()\n\u001B[1;32m      5\u001B[0m     data \u001B[38;5;241m=\u001B[39m cipher\u001B[38;5;241m.\u001B[39mencrypt(data)\n\u001B[0;32m----> 6\u001B[0m     img \u001B[38;5;241m=\u001B[39m \u001B[43mnp\u001B[49m\u001B[38;5;241;43m.\u001B[39;49m\u001B[43mfrombuffer\u001B[49m\u001B[43m(\u001B[49m\u001B[43mdata\u001B[49m\u001B[43m,\u001B[49m\u001B[43m \u001B[49m\u001B[43mdtype\u001B[49m\u001B[38;5;241;43m=\u001B[39;49m\u001B[43mnp\u001B[49m\u001B[38;5;241;43m.\u001B[39;49m\u001B[43muint8\u001B[49m\u001B[43m)\u001B[49m\u001B[38;5;241;43m.\u001B[39;49m\u001B[43mreshape\u001B[49m\u001B[43m(\u001B[49m\u001B[43m(\u001B[49m\u001B[38;5;241;43m32\u001B[39;49m\u001B[43m,\u001B[49m\u001B[43m \u001B[49m\u001B[38;5;241;43m32\u001B[39;49m\u001B[43m)\u001B[49m\u001B[43m)\u001B[49m\n\u001B[1;32m      7\u001B[0m     out\u001B[38;5;241m.\u001B[39mappend(img)\n\u001B[1;32m      8\u001B[0m \u001B[38;5;28;01mreturn\u001B[39;00m np\u001B[38;5;241m.\u001B[39marray(out)\u001B[38;5;241m.\u001B[39mreshape(images\u001B[38;5;241m.\u001B[39mshape)\n",
      "\u001B[0;31mValueError\u001B[0m: cannot reshape array of size 4096 into shape (32,32)"
     ]
    }
   ],
   "source": [
    "demods = tfds.load(\"celeb_a\", split=\"test\", batch_size=1)\n",
    "demods = demods.map(lambda x: tf.image.rgb_to_grayscale(x[\"image\"]))\n",
    "demods = demods.map(lambda x: tf.image.resize(x, (32, 32)))\n",
    "demods = tfds.as_numpy(demods)\n",
    "for batch in demods:\n",
    "    batch = batch[:, :, :, 0]\n",
    "    print(batch.shape)\n",
    "    encrypted = aes_encrypt(batch)\n",
    "    decrypted = aes_decrypt(encrypted)\n",
    "    plt.subplot(1, 3, 1, title=\"Original\")\n",
    "    plt.axis(\"off\")\n",
    "    plt.imshow(batch[0], cmap=\"gray\", interpolation=\"nearest\")\n",
    "    plt.subplot(1, 3, 2, title=\"Encrypted\")\n",
    "    plt.axis(\"off\")\n",
    "    plt.imshow(encrypted[0], cmap=\"gray\", interpolation=\"nearest\")\n",
    "    plt.subplot(1, 3, 3, title=\"Decrypted\")\n",
    "    plt.axis(\"off\")\n",
    "    plt.imshow(decrypted[0], cmap=\"gray\", interpolation=\"nearest\")\n",
    "    plt.show()\n",
    "    break"
   ],
   "metadata": {
    "collapsed": false,
    "ExecuteTime": {
     "end_time": "2023-08-19T05:57:18.919423752Z",
     "start_time": "2023-08-19T05:57:18.683268403Z"
    }
   },
   "id": "898987f0166797"
  },
  {
   "cell_type": "code",
   "execution_count": null,
   "outputs": [],
   "source": [
    "generator = load_model(\"generator.h5\")\n",
    "encoder = load_model(\"encoder.h5\")\n",
    "sign_swap = lambda x, k: x * np.sign(k)\n",
    "vec_keygen = lambda: np.random.uniform(-1, 1, size=(100,))"
   ],
   "metadata": {
    "collapsed": false,
    "ExecuteTime": {
     "start_time": "2023-08-19T05:51:05.507926569Z"
    }
   },
   "id": "a5ce57fa756e5cb4"
  },
  {
   "cell_type": "code",
   "execution_count": null,
   "outputs": [],
   "source": [
    "def cpe_encrypt(images, e, k):\n",
    "    return generator(e(encoder(images), k))"
   ],
   "metadata": {
    "collapsed": false,
    "ExecuteTime": {
     "end_time": "2023-08-19T05:51:05.592130319Z",
     "start_time": "2023-08-19T05:51:05.591856216Z"
    }
   },
   "id": "3138742ecd23d20f"
  },
  {
   "cell_type": "code",
   "execution_count": null,
   "outputs": [],
   "source": [
    "def create_discriminator():\n",
    "    discriminator = Sequential()\n",
    "    discriminator.add(Conv2D(64, (5, 5), strides=(2, 2), padding=\"same\", input_shape=[32, 32, 1]))\n",
    "    discriminator.add(LeakyReLU())\n",
    "    discriminator.add(Dropout(0.3))\n",
    "    discriminator.add(Conv2D(128, (5, 5), strides=(2, 2), padding=\"same\"))\n",
    "    discriminator.add(LeakyReLU())\n",
    "    discriminator.add(Dropout(0.3))\n",
    "    discriminator.add(Flatten())\n",
    "    discriminator.add(Dense(1, activation=\"sigmoid\"))\n",
    "    discriminator.compile(\n",
    "        loss=\"binary_crossentropy\", optimizer=Adam(learning_rate=0.0002, beta_1=0.5), metrics=[\"accuracy\"]\n",
    "    )\n",
    "    return discriminator"
   ],
   "metadata": {
    "collapsed": false,
    "ExecuteTime": {
     "start_time": "2023-08-19T05:51:05.592017367Z"
    }
   },
   "id": "44cb8ca0ad9bda90"
  },
  {
   "cell_type": "code",
   "execution_count": null,
   "outputs": [],
   "source": [
    "valds = tfds.load(\"mnist\", split=\"train\", batch_size=128)\n",
    "valds = valds.map(lambda x: tf.image.rgb_to_grayscale(x[\"image\"]))\n",
    "valds = valds.map(lambda x: tf.image.resize(x, (32, 32)))\n",
    "valds = tfds.as_numpy(valds)\n",
    "\n",
    "aes_disc = create_discriminator()\n",
    "cpe_disc = create_discriminator()\n",
    "\n",
    "def aes_enc_gen(ds):\n",
    "    for b in ds:\n",
    "        if len(b) < 128:\n",
    "            continue\n",
    "        b = b[\"image\"][:, :, :, 0]\n",
    "        aes_encrypted = aes_encrypt(b).astype(np.float32) / 127.5 - 1\n",
    "        b = b.astype(np.float32) / 127.5 - 1\n",
    "        b  = np.concatenate([b, aes_encrypted]).reshape((-1, 32, 32, 1))\n",
    "        target = np.concatenate([np.ones((128, 1), dtype=np.float32), np.zeros((128, 1), dtype=np.float32)])\n",
    "        yield b, target\n",
    "\n",
    "def cpe_enc_gen(ds):\n",
    "    for b in ds:\n",
    "        if len(b) < 128:\n",
    "            continue\n",
    "        b = b.astype(np.float32) / 127.5 - 1\n",
    "        cpe_encrypted = cpe_encrypt(b, sign_swap, vec_keygen())\n",
    "        b = np.concatenate([b, cpe_encrypted]).reshape((-1, 32, 32, 1))\n",
    "        target = np.concatenate([np.ones((128, 1), dtype=np.float32), np.zeros((128, 1), dtype=np.float32)])\n",
    "        yield b, target\n",
    "\n",
    "aes_hist = aes_disc.fit(aes_enc_gen(valds), steps_per_epoch=1, epochs=400, verbose=0)\n",
    "cpe_hist = cpe_disc.fit(cpe_enc_gen(valds), steps_per_epoch=1, epochs=400, verbose=0)"
   ],
   "metadata": {
    "collapsed": false,
    "ExecuteTime": {
     "start_time": "2023-08-19T05:51:05.592082684Z"
    }
   },
   "id": "336e98e0b2b124ef"
  },
  {
   "cell_type": "code",
   "execution_count": null,
   "outputs": [],
   "source": [
    "plt.plot(aes_hist.history[\"accuracy\"], label=\"AES\")\n",
    "plt.plot(cpe_hist.history[\"accuracy\"], label=\"CPE\")\n",
    "plt.legend()\n",
    "plt.show()"
   ],
   "metadata": {
    "collapsed": false,
    "ExecuteTime": {
     "end_time": "2023-08-19T05:51:05.592681700Z",
     "start_time": "2023-08-19T05:51:05.592258098Z"
    }
   },
   "id": "f76ef813cb7bb6d9"
  }
 ],
 "metadata": {
  "kernelspec": {
   "display_name": "Python 3",
   "language": "python",
   "name": "python3"
  },
  "language_info": {
   "codemirror_mode": {
    "name": "ipython",
    "version": 2
   },
   "file_extension": ".py",
   "mimetype": "text/x-python",
   "name": "python",
   "nbconvert_exporter": "python",
   "pygments_lexer": "ipython2",
   "version": "2.7.6"
  }
 },
 "nbformat": 4,
 "nbformat_minor": 5
}
