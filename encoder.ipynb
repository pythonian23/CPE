{
 "cells": [
  {
   "cell_type": "code",
   "execution_count": 1,
   "id": "initial_id",
   "metadata": {
    "collapsed": true,
    "ExecuteTime": {
     "end_time": "2023-08-12T15:08:38.491108410Z",
     "start_time": "2023-08-12T15:08:36.936440965Z"
    }
   },
   "outputs": [],
   "source": [
    "import os\n",
    "os.environ[\"TF_CPP_MIN_LOG_LEVEL\"] = \"2\"\n",
    "\n",
    "import numpy as np\n",
    "from keras.models import load_model\n",
    "from keras.models import Sequential, Model\n",
    "from keras.layers import Dense, Dropout, LeakyReLU, Flatten, Conv2D, Input\n",
    "from keras.utils import Sequence\n",
    "import matplotlib.pyplot as plt\n",
    "from keras.callbacks import TensorBoard"
   ]
  },
  {
   "cell_type": "code",
   "execution_count": 2,
   "outputs": [],
   "source": [
    "Z_DIM = 100\n",
    "BATCH_SIZE = 256\n",
    "BATCHES= 100\n",
    "EPOCHS = 100"
   ],
   "metadata": {
    "collapsed": false,
    "ExecuteTime": {
     "end_time": "2023-08-12T15:08:38.500302282Z",
     "start_time": "2023-08-12T15:08:38.492090123Z"
    }
   },
   "id": "7e4702360fb1b73f"
  },
  {
   "cell_type": "code",
   "execution_count": 3,
   "outputs": [],
   "source": [
    "encoder = Sequential(name=\"encoder\")\n",
    "encoder.add(Conv2D(64, (5, 5), strides=(2, 2), padding=\"same\", input_shape=[28, 28, 1]))\n",
    "encoder.add(LeakyReLU())\n",
    "encoder.add(Dropout(0.3))\n",
    "encoder.add(Conv2D(128, (5, 5), strides=(2, 2), padding=\"same\"))\n",
    "encoder.add(LeakyReLU())\n",
    "encoder.add(Dropout(0.3))\n",
    "encoder.add(Flatten())\n",
    "encoder.add(Dense(1024, activation=\"leaky_relu\"))\n",
    "encoder.add(Dropout(0.3))\n",
    "encoder.add(Dense(256, activation=\"leaky_relu\"))\n",
    "encoder.add(Dense(Z_DIM, activation=\"tanh\"))\n",
    "encoder.compile()\n",
    "generator = load_model(\"generator.h5\")\n",
    "generator.trainable = False\n",
    "trainer_input = Input(shape=(Z_DIM,))\n",
    "trainer = Model(trainer_input, encoder(generator(trainer_input)), name=\"trainer\")\n",
    "trainer.compile(optimizer=\"adam\", loss=\"mae\", metrics=[\"mse\"])"
   ],
   "metadata": {
    "collapsed": false,
    "ExecuteTime": {
     "end_time": "2023-08-12T15:08:38.812001158Z",
     "start_time": "2023-08-12T15:08:38.495631565Z"
    }
   },
   "id": "6839b1b2d3b54c20"
  },
  {
   "cell_type": "code",
   "execution_count": 4,
   "outputs": [],
   "source": [
    "class ZGenerator(Sequence):\n",
    "    def __init__(self, batch_size):\n",
    "        self.batch_size = batch_size\n",
    "    def __len__(self):\n",
    "        return BATCHES * self.batch_size\n",
    "    def __getitem__(self, idx):\n",
    "        z = np.random.uniform(-1, 1, size=(self.batch_size, Z_DIM))\n",
    "        return z, z"
   ],
   "metadata": {
    "collapsed": false,
    "ExecuteTime": {
     "end_time": "2023-08-12T15:08:38.820981329Z",
     "start_time": "2023-08-12T15:08:38.813681960Z"
    }
   },
   "id": "c90c1fa9be8d10aa"
  },
  {
   "cell_type": "code",
   "execution_count": 5,
   "outputs": [
    {
     "name": "stdout",
     "output_type": "stream",
     "text": [
      "Epoch 1/100\n"
     ]
    },
    {
     "name": "stderr",
     "output_type": "stream",
     "text": [
      "2023-08-13 00:08:39.376039: E tensorflow/core/grappler/optimizers/meta_optimizer.cc:954] layout failed: INVALID_ARGUMENT: Size of values 0 does not match size of permutation 4 @ fanin shape intrainer/encoder/dropout/dropout/SelectV2-2-TransposeNHWCToNCHW-LayoutOptimizer\n"
     ]
    },
    {
     "name": "stdout",
     "output_type": "stream",
     "text": [
      "100/100 [==============================] - 4s 19ms/step - loss: 0.4718 - mse: 0.3118\n",
      "Epoch 2/100\n",
      "100/100 [==============================] - 2s 19ms/step - loss: 0.4571 - mse: 0.2986\n",
      "Epoch 3/100\n",
      "100/100 [==============================] - 2s 19ms/step - loss: 0.4524 - mse: 0.2941\n",
      "Epoch 4/100\n",
      "100/100 [==============================] - 2s 19ms/step - loss: 0.4502 - mse: 0.2920\n",
      "Epoch 5/100\n",
      "100/100 [==============================] - 2s 19ms/step - loss: 0.4488 - mse: 0.2908\n",
      "Epoch 6/100\n",
      "100/100 [==============================] - 2s 19ms/step - loss: 0.4479 - mse: 0.2899\n",
      "Epoch 7/100\n",
      "100/100 [==============================] - 2s 19ms/step - loss: 0.4467 - mse: 0.2889\n",
      "Epoch 8/100\n",
      "100/100 [==============================] - 2s 19ms/step - loss: 0.4461 - mse: 0.2883\n",
      "Epoch 9/100\n",
      "100/100 [==============================] - 2s 19ms/step - loss: 0.4456 - mse: 0.2880\n",
      "Epoch 10/100\n",
      "100/100 [==============================] - 2s 19ms/step - loss: 0.4448 - mse: 0.2871\n",
      "Epoch 11/100\n",
      "100/100 [==============================] - 2s 19ms/step - loss: 0.4444 - mse: 0.2868\n",
      "Epoch 12/100\n",
      "100/100 [==============================] - 2s 19ms/step - loss: 0.4443 - mse: 0.2866\n",
      "Epoch 13/100\n",
      "100/100 [==============================] - 2s 19ms/step - loss: 0.4436 - mse: 0.2859\n",
      "Epoch 14/100\n",
      "100/100 [==============================] - 2s 19ms/step - loss: 0.4432 - mse: 0.2858\n",
      "Epoch 15/100\n",
      "100/100 [==============================] - 2s 19ms/step - loss: 0.4433 - mse: 0.2857\n",
      "Epoch 16/100\n",
      "100/100 [==============================] - 2s 19ms/step - loss: 0.4429 - mse: 0.2853\n",
      "Epoch 17/100\n",
      "100/100 [==============================] - 2s 19ms/step - loss: 0.4425 - mse: 0.2849\n",
      "Epoch 18/100\n",
      "100/100 [==============================] - 2s 19ms/step - loss: 0.4423 - mse: 0.2850\n",
      "Epoch 19/100\n",
      "100/100 [==============================] - 2s 19ms/step - loss: 0.4417 - mse: 0.2842\n",
      "Epoch 20/100\n",
      "100/100 [==============================] - 2s 20ms/step - loss: 0.4421 - mse: 0.2845\n",
      "Epoch 21/100\n",
      "100/100 [==============================] - 2s 20ms/step - loss: 0.4416 - mse: 0.2843\n",
      "Epoch 22/100\n",
      "100/100 [==============================] - 2s 19ms/step - loss: 0.4415 - mse: 0.2841\n",
      "Epoch 23/100\n",
      "100/100 [==============================] - 2s 19ms/step - loss: 0.4415 - mse: 0.2840\n",
      "Epoch 24/100\n",
      "100/100 [==============================] - 2s 19ms/step - loss: 0.4410 - mse: 0.2834\n",
      "Epoch 25/100\n",
      "100/100 [==============================] - 2s 19ms/step - loss: 0.4410 - mse: 0.2835\n",
      "Epoch 26/100\n",
      "100/100 [==============================] - 2s 19ms/step - loss: 0.4407 - mse: 0.2833\n",
      "Epoch 27/100\n",
      "100/100 [==============================] - 2s 20ms/step - loss: 0.4404 - mse: 0.2829\n",
      "Epoch 28/100\n",
      "100/100 [==============================] - 2s 20ms/step - loss: 0.4403 - mse: 0.2830\n",
      "Epoch 29/100\n",
      "100/100 [==============================] - 2s 20ms/step - loss: 0.4404 - mse: 0.2829\n",
      "Epoch 30/100\n",
      "100/100 [==============================] - 2s 20ms/step - loss: 0.4401 - mse: 0.2826\n",
      "Epoch 31/100\n",
      "100/100 [==============================] - 2s 19ms/step - loss: 0.4402 - mse: 0.2827\n",
      "Epoch 32/100\n",
      "100/100 [==============================] - 2s 20ms/step - loss: 0.4400 - mse: 0.2825\n",
      "Epoch 33/100\n",
      "100/100 [==============================] - 2s 20ms/step - loss: 0.4401 - mse: 0.2827\n",
      "Epoch 34/100\n",
      "100/100 [==============================] - 2s 19ms/step - loss: 0.4397 - mse: 0.2824\n",
      "Epoch 35/100\n",
      "100/100 [==============================] - 2s 19ms/step - loss: 0.4392 - mse: 0.2817\n",
      "Epoch 36/100\n",
      "100/100 [==============================] - 2s 19ms/step - loss: 0.4395 - mse: 0.2822\n",
      "Epoch 37/100\n",
      "100/100 [==============================] - 2s 19ms/step - loss: 0.4396 - mse: 0.2821\n",
      "Epoch 38/100\n",
      "100/100 [==============================] - 2s 19ms/step - loss: 0.4394 - mse: 0.2819\n",
      "Epoch 39/100\n",
      "100/100 [==============================] - 2s 20ms/step - loss: 0.4396 - mse: 0.2822\n",
      "Epoch 40/100\n",
      "100/100 [==============================] - 2s 19ms/step - loss: 0.4394 - mse: 0.2821\n",
      "Epoch 41/100\n",
      "100/100 [==============================] - 2s 19ms/step - loss: 0.4391 - mse: 0.2818\n",
      "Epoch 42/100\n",
      "100/100 [==============================] - 2s 19ms/step - loss: 0.4392 - mse: 0.2818\n",
      "Epoch 43/100\n",
      "100/100 [==============================] - 2s 19ms/step - loss: 0.4391 - mse: 0.2818\n",
      "Epoch 44/100\n",
      "100/100 [==============================] - 2s 19ms/step - loss: 0.4391 - mse: 0.2817\n",
      "Epoch 45/100\n",
      "100/100 [==============================] - 2s 20ms/step - loss: 0.4392 - mse: 0.2820\n",
      "Epoch 46/100\n",
      "100/100 [==============================] - 2s 20ms/step - loss: 0.4391 - mse: 0.2819\n",
      "Epoch 47/100\n",
      "100/100 [==============================] - 2s 20ms/step - loss: 0.4388 - mse: 0.2814\n",
      "Epoch 48/100\n",
      "100/100 [==============================] - 2s 20ms/step - loss: 0.4386 - mse: 0.2813\n",
      "Epoch 49/100\n",
      "100/100 [==============================] - 2s 20ms/step - loss: 0.4385 - mse: 0.2811\n",
      "Epoch 50/100\n",
      "100/100 [==============================] - 2s 20ms/step - loss: 0.4385 - mse: 0.2812\n",
      "Epoch 51/100\n",
      "100/100 [==============================] - 2s 20ms/step - loss: 0.4384 - mse: 0.2811\n",
      "Epoch 52/100\n",
      "100/100 [==============================] - 2s 20ms/step - loss: 0.4382 - mse: 0.2809\n",
      "Epoch 53/100\n",
      "100/100 [==============================] - 2s 20ms/step - loss: 0.4385 - mse: 0.2813\n",
      "Epoch 54/100\n",
      "100/100 [==============================] - 2s 20ms/step - loss: 0.4384 - mse: 0.2811\n",
      "Epoch 55/100\n",
      "100/100 [==============================] - 2s 20ms/step - loss: 0.4382 - mse: 0.2809\n",
      "Epoch 56/100\n",
      "100/100 [==============================] - 2s 20ms/step - loss: 0.4379 - mse: 0.2805\n",
      "Epoch 57/100\n",
      "100/100 [==============================] - 2s 20ms/step - loss: 0.4378 - mse: 0.2806\n",
      "Epoch 58/100\n",
      "100/100 [==============================] - 2s 20ms/step - loss: 0.4385 - mse: 0.2812\n",
      "Epoch 59/100\n",
      "100/100 [==============================] - 2s 20ms/step - loss: 0.4380 - mse: 0.2808\n",
      "Epoch 60/100\n",
      "100/100 [==============================] - 2s 20ms/step - loss: 0.4382 - mse: 0.2809\n",
      "Epoch 61/100\n",
      "100/100 [==============================] - 2s 20ms/step - loss: 0.4380 - mse: 0.2808\n",
      "Epoch 62/100\n",
      "100/100 [==============================] - 2s 20ms/step - loss: 0.4379 - mse: 0.2805\n",
      "Epoch 63/100\n",
      "100/100 [==============================] - 2s 20ms/step - loss: 0.4381 - mse: 0.2807\n",
      "Epoch 64/100\n",
      "100/100 [==============================] - 2s 20ms/step - loss: 0.4378 - mse: 0.2805\n",
      "Epoch 65/100\n",
      "100/100 [==============================] - 2s 20ms/step - loss: 0.4378 - mse: 0.2805\n",
      "Epoch 66/100\n",
      "100/100 [==============================] - 2s 20ms/step - loss: 0.4380 - mse: 0.2805\n",
      "Epoch 67/100\n",
      "100/100 [==============================] - 2s 20ms/step - loss: 0.4376 - mse: 0.2804\n",
      "Epoch 68/100\n",
      "100/100 [==============================] - 2s 20ms/step - loss: 0.4373 - mse: 0.2799\n",
      "Epoch 69/100\n",
      "100/100 [==============================] - 2s 20ms/step - loss: 0.4378 - mse: 0.2806\n",
      "Epoch 70/100\n",
      "100/100 [==============================] - 2s 20ms/step - loss: 0.4373 - mse: 0.2801\n",
      "Epoch 71/100\n",
      "100/100 [==============================] - 2s 20ms/step - loss: 0.4374 - mse: 0.2800\n",
      "Epoch 72/100\n",
      "100/100 [==============================] - 2s 20ms/step - loss: 0.4374 - mse: 0.2801\n",
      "Epoch 73/100\n",
      "100/100 [==============================] - 2s 20ms/step - loss: 0.4376 - mse: 0.2804\n",
      "Epoch 74/100\n",
      "100/100 [==============================] - 2s 20ms/step - loss: 0.4379 - mse: 0.2808\n",
      "Epoch 75/100\n",
      "100/100 [==============================] - 2s 20ms/step - loss: 0.4378 - mse: 0.2805\n",
      "Epoch 76/100\n",
      "100/100 [==============================] - 2s 20ms/step - loss: 0.4375 - mse: 0.2801\n",
      "Epoch 77/100\n",
      "100/100 [==============================] - 2s 20ms/step - loss: 0.4376 - mse: 0.2803\n",
      "Epoch 78/100\n",
      "100/100 [==============================] - 2s 20ms/step - loss: 0.4373 - mse: 0.2800\n",
      "Epoch 79/100\n",
      "100/100 [==============================] - 2s 20ms/step - loss: 0.4373 - mse: 0.2801\n",
      "Epoch 80/100\n",
      "100/100 [==============================] - 2s 20ms/step - loss: 0.4377 - mse: 0.2805\n",
      "Epoch 81/100\n",
      "100/100 [==============================] - 2s 20ms/step - loss: 0.4370 - mse: 0.2798\n",
      "Epoch 82/100\n",
      "100/100 [==============================] - 2s 20ms/step - loss: 0.4371 - mse: 0.2797\n",
      "Epoch 83/100\n",
      "100/100 [==============================] - 2s 20ms/step - loss: 0.4373 - mse: 0.2799\n",
      "Epoch 84/100\n",
      "100/100 [==============================] - 2s 20ms/step - loss: 0.4372 - mse: 0.2799\n",
      "Epoch 85/100\n",
      "100/100 [==============================] - 2s 20ms/step - loss: 0.4368 - mse: 0.2795\n",
      "Epoch 86/100\n",
      "100/100 [==============================] - 2s 20ms/step - loss: 0.4373 - mse: 0.2800\n",
      "Epoch 87/100\n",
      "100/100 [==============================] - 2s 20ms/step - loss: 0.4369 - mse: 0.2797\n",
      "Epoch 88/100\n",
      "100/100 [==============================] - 2s 20ms/step - loss: 0.4369 - mse: 0.2798\n",
      "Epoch 89/100\n",
      "100/100 [==============================] - 2s 20ms/step - loss: 0.4369 - mse: 0.2797\n",
      "Epoch 90/100\n",
      "100/100 [==============================] - 2s 20ms/step - loss: 0.4370 - mse: 0.2796\n",
      "Epoch 91/100\n",
      "100/100 [==============================] - 2s 20ms/step - loss: 0.4370 - mse: 0.2797\n",
      "Epoch 92/100\n",
      "100/100 [==============================] - 2s 20ms/step - loss: 0.4372 - mse: 0.2801\n",
      "Epoch 93/100\n",
      "100/100 [==============================] - 2s 20ms/step - loss: 0.4370 - mse: 0.2797\n",
      "Epoch 94/100\n",
      "100/100 [==============================] - 2s 20ms/step - loss: 0.4374 - mse: 0.2802\n",
      "Epoch 95/100\n",
      "100/100 [==============================] - 2s 20ms/step - loss: 0.4369 - mse: 0.2796\n",
      "Epoch 96/100\n",
      "100/100 [==============================] - 2s 20ms/step - loss: 0.4370 - mse: 0.2797\n",
      "Epoch 97/100\n",
      "100/100 [==============================] - 2s 20ms/step - loss: 0.4369 - mse: 0.2796\n",
      "Epoch 98/100\n",
      "100/100 [==============================] - 2s 20ms/step - loss: 0.4368 - mse: 0.2795\n",
      "Epoch 99/100\n",
      "100/100 [==============================] - 2s 20ms/step - loss: 0.4369 - mse: 0.2796\n",
      "Epoch 100/100\n",
      "100/100 [==============================] - 2s 20ms/step - loss: 0.4367 - mse: 0.2794\n"
     ]
    }
   ],
   "source": [
    "z_generator = ZGenerator(BATCH_SIZE)\n",
    "tensorboard = TensorBoard(log_dir=\"logs\")\n",
    "history = trainer.fit(z_generator, steps_per_epoch=BATCHES, epochs=EPOCHS)"
   ],
   "metadata": {
    "collapsed": false,
    "ExecuteTime": {
     "end_time": "2023-08-12T15:11:58.472723431Z",
     "start_time": "2023-08-12T15:08:38.816096436Z"
    }
   },
   "id": "3af309c4c183abef"
  },
  {
   "cell_type": "code",
   "execution_count": 6,
   "outputs": [],
   "source": [
    "encoder.save(\"encoder.h5\")"
   ],
   "metadata": {
    "collapsed": false,
    "ExecuteTime": {
     "end_time": "2023-08-12T15:11:58.525191866Z",
     "start_time": "2023-08-12T15:11:58.472507324Z"
    }
   },
   "id": "411c4acc27e41035"
  },
  {
   "cell_type": "code",
   "execution_count": 7,
   "outputs": [
    {
     "data": {
      "text/plain": "<Figure size 640x480 with 1 Axes>",
      "image/png": "[encoded data removed]"
     },
     "metadata": {},
     "output_type": "display_data"
    },
    {
     "name": "stdout",
     "output_type": "stream",
     "text": [
      "1/1 [==============================] - 0s 256ms/step\n",
      "1/1 [==============================] - 0s 136ms/step\n",
      "0.26876238039315586\n"
     ]
    }
   ],
   "source": [
    "plt.plot(history.history[\"loss\"])\n",
    "plt.show()\n",
    "z = np.random.uniform(-1, 1, size=(10, Z_DIM))\n",
    "x = generator.predict(z)\n",
    "x = encoder.predict(x)\n",
    "print(np.average((z - x) ** 2))"
   ],
   "metadata": {
    "collapsed": false,
    "ExecuteTime": {
     "end_time": "2023-08-12T15:11:58.998782202Z",
     "start_time": "2023-08-12T15:11:58.513608488Z"
    }
   },
   "id": "83c62e3dbb064e4a"
  }
 ],
 "metadata": {
  "kernelspec": {
   "display_name": "Python 3",
   "language": "python",
   "name": "python3"
  },
  "language_info": {
   "codemirror_mode": {
    "name": "ipython",
    "version": 2
   },
   "file_extension": ".py",
   "mimetype": "text/x-python",
   "name": "python",
   "nbconvert_exporter": "python",
   "pygments_lexer": "ipython2",
   "version": "2.7.6"
  }
 },
 "nbformat": 4,
 "nbformat_minor": 5
}
